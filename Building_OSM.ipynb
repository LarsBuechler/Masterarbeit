{
 "cells": [
  {
   "cell_type": "code",
   "execution_count": 3,
   "metadata": {},
   "outputs": [],
   "source": [
    "import pandas as pd\n",
    "import requests"
   ]
  },
  {
   "cell_type": "code",
   "execution_count": 4,
   "metadata": {},
   "outputs": [],
   "source": [
    "def get_osm_data(city, city_part, osm_attribute, file_naming):\n",
    "    \n",
    "    if city_part == '':\n",
    "        #Create Overpass API Query\n",
    "        overpass_url = \"http://overpass-api.de/api/interpreter\"\n",
    "        overpass_query = f\"\"\"\n",
    "            [out:json];\n",
    "            area[name='{city}'];\n",
    "            nwr[{osm_attribute}](area);\n",
    "            out center;\n",
    "        \"\"\"\n",
    "\n",
    "    else:\n",
    "        #Create Overpass API Query\n",
    "        overpass_url = \"http://overpass-api.de/api/interpreter\"\n",
    "        overpass_query = f\"\"\"\n",
    "            [out:json];\n",
    "            area[name='{city}']->.a;\n",
    "            (\n",
    "                rel[name='{city_part}'](area.a);\n",
    "                nwr[{osm_attribute}](area.a);\n",
    "            );\n",
    "            out center;\n",
    "        \"\"\"\n",
    "\n",
    "    #Perform Overpass API Request\n",
    "    response = requests.get(overpass_url, params={'data': overpass_query})\n",
    "    response_content = response.json()\n",
    "    print('Response acquired!')\n",
    "\n",
    "\n",
    "    #Collect Relevant Data\n",
    "    csv_data = []\n",
    "    for element in response_content['elements']:\n",
    "        if element['type'] == 'node':\n",
    "            csv_data.append({\n",
    "                'id': element['id'],\n",
    "                'lat': element['lat'],\n",
    "                'lon': element['lon'],\n",
    "                'name': element['tags'].get('name', ''),\n",
    "                'building': element['tags'].get('building', ''),\n",
    "                'addr:street': element['tags'].get('addr:street', ''),\n",
    "                'addr:housenumber': element['tags'].get('addr:housenumber', ''),\n",
    "                'addr:postcode': element['tags'].get('addr:postcode', ''),\n",
    "            })\n",
    "\n",
    "        else:\n",
    "            csv_data.append({  \n",
    "                'id': element['id'],\n",
    "                'lat': element['center']['lat'],\n",
    "                'lon': element['center']['lon'],\n",
    "                'name': element['tags'].get('name', ''),\n",
    "                'building': element['tags'].get('building', ''),\n",
    "                'addr:street': element['tags'].get('addr:street', ''),\n",
    "                'addr:housenumber': element['tags'].get('addr:housenumber', ''),\n",
    "                'addr:postcode': element['tags'].get('addr:postcode', ''),\n",
    "\n",
    "            })\n",
    "\n",
    "\n",
    "    #Transform to DataFrame and save file\n",
    "    df = pd.DataFrame(csv_data)\n",
    "    if city_part == '':\n",
    "        df.to_csv(f'./OSM_Data/{city}-{file_naming}.csv', index=False)\n",
    "        print(f'Successfully saved {city}-{file_naming}!')\n",
    "    else:\n",
    "        df.to_csv(f'./OSM_Data/{city_part}-{file_naming}.csv', index=False)\n",
    "        print(f'Successfully saved {city_part}-{file_naming}!')"
   ]
  },
  {
   "cell_type": "code",
   "execution_count": null,
   "metadata": {},
   "outputs": [],
   "source": [
    "city_parts = [\n",
    "         'Zellerau',\n",
    "         'Dürrbachtal',\n",
    "         'Grombühl', \n",
    "         'Lindleinsmühle', \n",
    "         'Frauenland', \n",
    "         'Sanderau', \n",
    "         'Heidingsfeld', \n",
    "         'Heuchelhof', \n",
    "         'Steinbachtal', \n",
    "         'Versbach',\n",
    "         'Lengfeld',\n",
    "         'Rottenbauer'\n",
    "         ]\n",
    "\n",
    "#Zusätzliche Daten Würzburg\n",
    "get_osm_data('Würzburg', '', \"amenity='parcel_locker'\", 'Packstationen')\n",
    "get_osm_data('Würzburg', '', 'amenity=\"pharmacy\"', 'Apotheken')\n",
    "\n",
    "#Gebäudedaten Würzburgs\n",
    "get_osm_data('Würzburg Altstadt', '', 'building', 'Buildings')\n",
    "for city_part in city_parts:\n",
    "    get_osm_data('Würzburg', city_part, 'building', 'Buildings')\n",
    "\n",
    "\n"
   ]
  },
  {
   "cell_type": "code",
   "execution_count": 6,
   "metadata": {},
   "outputs": [
    {
     "name": "stdout",
     "output_type": "stream",
     "text": [
      "Response acquired!\n",
      "Successfully saved Würzburg-Buildings!\n"
     ]
    }
   ],
   "source": [
    "get_osm_data('Würzburg', '', 'building', 'Buildings')"
   ]
  }
 ],
 "metadata": {
  "kernelspec": {
   "display_name": "Masterarbeit_311",
   "language": "python",
   "name": "python3"
  },
  "language_info": {
   "codemirror_mode": {
    "name": "ipython",
    "version": 3
   },
   "file_extension": ".py",
   "mimetype": "text/x-python",
   "name": "python",
   "nbconvert_exporter": "python",
   "pygments_lexer": "ipython3",
   "version": "3.11.7"
  }
 },
 "nbformat": 4,
 "nbformat_minor": 2
}
