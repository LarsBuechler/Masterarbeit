{
 "cells": [
  {
   "cell_type": "code",
   "execution_count": 41,
   "metadata": {},
   "outputs": [],
   "source": [
    "import pandas as pd\n",
    "import numpy as np\n",
    "import json\n",
    "import matplotlib.pyplot as plt\n",
    "from matplotlib_scalebar.scalebar import ScaleBar\n",
    "from matplotlib.lines import Line2D\n",
    "from math import radians, sin, cos, asin, sqrt\n",
    "import re\n",
    "import requests\n",
    "import datetime\n",
    "from statistics import median, quantiles\n",
    "\n",
    "\n",
    "import geohash2\n",
    "import pyproj\n",
    "from functools import partial\n",
    "from pyproj import Proj, transform, CRS\n",
    "import geopandas as gpd\n",
    "from shapely.geometry import Point, Polygon\n",
    "from geopy.distance import geodesic\n",
    "from scipy.spatial import cKDTree\n",
    "\n",
    "from ortools.constraint_solver import routing_enums_pb2\n",
    "from ortools.constraint_solver import pywrapcp\n",
    "from ortools.linear_solver import pywraplp\n",
    "\n",
    "\n",
    "from tqdm import tqdm\n",
    "#import multiprocessing as mp"
   ]
  },
  {
   "cell_type": "markdown",
   "metadata": {},
   "source": [
    "# Laden der Daten"
   ]
  },
  {
   "cell_type": "code",
   "execution_count": 3,
   "metadata": {},
   "outputs": [],
   "source": [
    "geo_bundesländer = gpd.read_file('./GeoDaten/DE_NUTS5000.gpkg')\n",
    "geo_würzburg = geo_bundesländer[geo_bundesländer['NUTS_NAME'].str.contains('Würzburg')]\n",
    "geo_würzburg = geo_würzburg.to_crs('3035')"
   ]
  },
  {
   "cell_type": "code",
   "execution_count": 4,
   "metadata": {},
   "outputs": [],
   "source": [
    "customers_gdf = gpd.read_file('./WLP/nachfrage_wuerzburg.gpkg')\n",
    "customers_gdf[\"nachfrage\"] = customers_gdf[\"nachfrage\"].astype(int)\n",
    "\n",
    "cluster_gdf = gpd.read_file('./WLP/cluster_wuerzburg.gpkg')\n",
    "cluster_gdf.set_index(['cluster'], inplace=True)"
   ]
  },
  {
   "cell_type": "markdown",
   "metadata": {},
   "source": [
    "## 𝑅:  Set of customer regions"
   ]
  },
  {
   "cell_type": "code",
   "execution_count": null,
   "metadata": {},
   "outputs": [],
   "source": [
    "# Create a colormap based on the \"nachfrage\" column\n",
    "vmin = customers_gdf['nachfrage'].min()\n",
    "vmax = customers_gdf['nachfrage'].max()\n",
    "cmap = 'coolwarm'  \n",
    "\n",
    "# Plot the raster with boundary\n",
    "ax = geo_würzburg.boundary.plot(color='gray', linewidth=0.5, figsize = (5,5))\n",
    "\n",
    "# Plot the customers with custom colormap\n",
    "customers_gdf.plot(ax=ax, column='nachfrage', cmap=cmap, vmin=vmin, vmax=vmax)\n",
    "\n",
    "# Add title and labels\n",
    "plt.axis('off')\n",
    "plt.title('Nachfrageraster des Landkreis Würzburg')\n",
    "#plt.xlabel('Breitengradkoordinate im CSR3035 Format')\n",
    "#plt.ylabel('Längengradkoordinate im CSR3035 Format')\n",
    "\n",
    "# Add colorbar\n",
    "sm = plt.cm.ScalarMappable(cmap=cmap, norm=plt.Normalize(vmin=vmin, vmax=vmax))\n",
    "sm._A = []  # Fake up the array of the scalar mappable\n",
    "cbar = plt.colorbar(sm, ax=ax, shrink=0.5, label='Nachfrage')  # Adjust shrink value as needed\n",
    "\n",
    "# Add scale bar\n",
    "scalebar = ScaleBar(1, location='lower left', label='Maßstab')  # 1 pixel = 1 meter\n",
    "ax.add_artist(scalebar)\n",
    "\n",
    "plt.show()"
   ]
  },
  {
   "cell_type": "markdown",
   "metadata": {},
   "source": [
    "## 𝑊:  Set of warehouses"
   ]
  },
  {
   "cell_type": "code",
   "execution_count": 5,
   "metadata": {},
   "outputs": [],
   "source": [
    "def geohash_to_csr3035(geohash):\n",
    "    lat, lon = geohash2.decode(geohash)\n",
    "    wgs84 = pyproj.Proj(init='epsg:4326')\n",
    "    csr3035 = pyproj.Proj(init='epsg:3035')\n",
    "    x_csr3035, y_csr3035 = pyproj.transform(wgs84, csr3035, lon, lat)\n",
    "    return x_csr3035, y_csr3035\n",
    "\n",
    "\n",
    "def convert_price_string_to_float(price_string):\n",
    "  # Remove non-numeric characters\n",
    "  numeric_part = re.sub(r\"[^\\d,.]\", \"\", price_string)\n",
    "\n",
    "  # Replace comma with decimal\n",
    "  numeric_part = numeric_part.replace(\",\", \".\")\n",
    "\n",
    "  # Convert to float\n",
    "  return float(numeric_part)\n",
    "\n",
    "\n",
    "def extract_largest_float(area_string):\n",
    "  # Remove non-numeric characters and split the string into parts\n",
    "  area_parts = re.sub(r\"[^\\d\\-\\s]\", \"\", area_string).split()\n",
    "\n",
    "  # Handle different formats\n",
    "  if len(area_parts) == 1:  # Single value format (3.000 m²)\n",
    "    largest_value = float(area_parts[0])\n",
    "\n",
    "  elif len(area_parts) == 3 and area_parts[1] == '-':  # Range format (5.000 - 15.000 m²)\n",
    "    largest_value = max(float(area_parts[0]), float(area_parts[2]))\n",
    "\n",
    "  else:  # Invalid format\n",
    "    largest_value = None\n",
    "\n",
    "  return largest_value\n",
    "\n",
    "def extract_smallest_float(area_string):\n",
    "  # Remove non-numeric characters and split the string into parts\n",
    "  area_parts = re.sub(r\"[^\\d\\-\\s]\", \"\", area_string).split()\n",
    "\n",
    "  if len(area_parts) == 1:  # Single value format (3.000 m²)\n",
    "    smallest_value = float(area_parts[0])\n",
    "\n",
    "  elif len(area_parts) == 3 and area_parts[1] == '-':  # Range format (5.000 - 15.000 m²)\n",
    "    smallest_value = min(float(area_parts[0]), float(area_parts[2]))\n",
    "\n",
    "  else:  # Invalid format\n",
    "    smallest_value = None\n",
    "\n",
    "  return smallest_value\n"
   ]
  },
  {
   "cell_type": "code",
   "execution_count": null,
   "metadata": {},
   "outputs": [],
   "source": [
    "# Read warehouse data from CSV files\n",
    "warehouse_data_wuerzburg = pd.read_csv('./Immobilien_Data/Wuerzburg.csv')  # Read data from Würzburg CSV\n",
    "warehouse_data_wuerzburg_kreis = pd.read_csv('./Immobilien_Data/Wuerzburg-Kreis.csv')  # Read data from Würzburg-Kreis CSV\n",
    "\n",
    "# Combine data from both CSV files\n",
    "warehouse_data = pd.concat([warehouse_data_wuerzburg, warehouse_data_wuerzburg_kreis], axis=0)  # Concatenate DataFrames\n",
    "\n",
    "# Extract x and y coordinates from 'geoGrid' column using a function (assumed 'geohash_to_csr3035' is defined elsewhere)\n",
    "warehouse_data[['x_csr3035', 'y_csr3035']] = warehouse_data['geoGrid'].apply(lambda x: pd.Series(geohash_to_csr3035(x)))\n",
    "\n",
    "# Create a geometry column using Point objects from x and y coordinates\n",
    "warehouse_data['geometry'] = warehouse_data.apply(lambda row: Point(row['x_csr3035'], row['y_csr3035']), axis=1)\n",
    "\n",
    "# Convert the data into a GeoDataFrame with specified geometry column and CRS\n",
    "warehouses_gdf = gpd.GeoDataFrame(warehouse_data, geometry='geometry', crs='EPSG:3035')\n",
    "\n",
    "# Reset index to avoid potential issues with duplicate indices\n",
    "warehouses_gdf = warehouses_gdf.reset_index(drop=True)  # Reset index and optionally drop the old column\n",
    "\n",
    "# Clean and process 'pricePerSquareMetre' column\n",
    "warehouses_gdf['pricePerSquareMetre'] = warehouses_gdf[warehouses_gdf['pricePerSquareMetre'].notna()]['pricePerSquareMetre'].apply(convert_price_string_to_float)  # Apply function to non-NaN values to convert price format\n",
    "warehouses_gdf['pricePerSquareMetre'].fillna(warehouses_gdf['pricePerSquareMetre'].mean(), inplace=True)  # Fill NaN values with the mean\n",
    "warehouses_gdf['pricePerSquareMetre'] = warehouses_gdf['pricePerSquareMetre'].apply(lambda x: round(x, 2))  # Round price values to 2 decimal places\n",
    "\n",
    "# Clean and process 'floorSpace' column\n",
    "warehouses_gdf['floorSpace_big'] = warehouses_gdf['floorSpace'].apply(extract_largest_float)\n",
    "warehouses_gdf['floorSpace_small'] = warehouses_gdf['floorSpace'].apply(extract_smallest_float)\n",
    "\n",
    "#Create new column with the corresponding price element\n",
    "warehouses_gdf['total_price_big'] = warehouses_gdf['floorSpace_big'] * warehouses_gdf['pricePerSquareMetre'] * 12\n",
    "warehouses_gdf['total_price_small'] = warehouses_gdf['floorSpace_small'] * warehouses_gdf['pricePerSquareMetre'] * 12"
   ]
  },
  {
   "cell_type": "code",
   "execution_count": null,
   "metadata": {},
   "outputs": [],
   "source": [
    "# Create a colormap based on the \"total_price\" column\n",
    "vmin = warehouses_gdf['total_price_big'].min()\n",
    "vmax = warehouses_gdf['total_price_big'].max()\n",
    "cmap = 'coolwarm'  \n",
    "\n",
    "\n",
    "# Rahmen der Grafik definieren\n",
    "fig, ax = plt.subplots(figsize=(6, 6))\n",
    "geo_würzburg.boundary.plot(ax=ax, color='gray', linewidth=0.5)\n",
    "\n",
    "# Plotte gdf_loaded auf dieselbe Achse\n",
    "warehouses_gdf.plot(ax=ax, column='total_price_big', cmap=cmap, markersize=20)\n",
    "\n",
    "# Titel hinzufügen\n",
    "plt.title('Lagerhaltungsimmobilien des Landkreis Würzburg')\n",
    "plt.axis('off')\n",
    "\n",
    "# Add colorbar\n",
    "sm = plt.cm.ScalarMappable(cmap=cmap, norm=plt.Normalize(vmin=vmin, vmax=vmax))\n",
    "sm._A = []  # Fake up the array of the scalar mappable\n",
    "cbar = plt.colorbar(sm, ax=ax, shrink=0.5, label='Gesamter Mietpreis für ein Jahr')  # Adjust shrink value as needed\n",
    "\n",
    "# Add scale bar\n",
    "scalebar = ScaleBar(1, location='lower left', label='Maßstab')\n",
    "ax.add_artist(scalebar)\n",
    "\n",
    "# Zeige den Plot an\n",
    "plt.show()"
   ]
  },
  {
   "cell_type": "code",
   "execution_count": null,
   "metadata": {},
   "outputs": [],
   "source": [
    "# Create a colormap based on the \"total_price\" column\n",
    "vmin = warehouses_gdf['total_price_small'].min()\n",
    "vmax = warehouses_gdf['total_price_small'].max()\n",
    "cmap = 'coolwarm'  \n",
    "\n",
    "\n",
    "# Rahmen der Grafik definieren\n",
    "fig, ax = plt.subplots(figsize=(6, 6))\n",
    "geo_würzburg.boundary.plot(ax=ax, color='gray', linewidth=0.5)\n",
    "\n",
    "# Plotte gdf_loaded auf dieselbe Achse\n",
    "warehouses_gdf.plot(ax=ax, column='total_price_small', cmap=cmap, markersize=20)\n",
    "\n",
    "# Titel hinzufügen\n",
    "plt.title('Lagerhaltungsimmobilien des Landkreis Würzburg')\n",
    "plt.axis('off')\n",
    "\n",
    "# Add colorbar\n",
    "sm = plt.cm.ScalarMappable(cmap=cmap, norm=plt.Normalize(vmin=vmin, vmax=vmax))\n",
    "sm._A = []  # Fake up the array of the scalar mappable\n",
    "cbar = plt.colorbar(sm, ax=ax, shrink=0.5, label='Gesamter Mietpreis für ein Jahr')  # Adjust shrink value as needed\n",
    "\n",
    "# Add scale bar\n",
    "scalebar = ScaleBar(1, location='lower left', label='Maßstab')\n",
    "ax.add_artist(scalebar)\n",
    "\n",
    "# Zeige den Plot an\n",
    "plt.show()"
   ]
  },
  {
   "cell_type": "markdown",
   "metadata": {},
   "source": [
    "## 𝑆:  Set of links between warehouses and regions"
   ]
  },
  {
   "cell_type": "code",
   "execution_count": 7,
   "metadata": {},
   "outputs": [],
   "source": [
    "def calculate_travel_costs(warehouses_gdf, customers_gdf):\n",
    "\n",
    "  # Create an empty list to store the results\n",
    "  data = []\n",
    "\n",
    "  # Iterate through each warehouse in the warehouse DataFrame\n",
    "  for warehouse_index, warehouse in warehouses_gdf.iterrows():\n",
    "    for customer_index, customer in customers_gdf.iterrows():\n",
    "\n",
    "      # Calculate the distance between the centroid of the region and the warehouse\n",
    "      travel_distance = warehouse.geometry.distance(customer.geometry)/1000\n",
    "      # Append the calculated values to the list\n",
    "      data.append({'warehouse_id': warehouse_index, 'region_id': customer_index, 'travel_distance': travel_distance})\n",
    "\n",
    "  # Create a DataFrame from the collected data\n",
    "  df = pd.DataFrame(data)\n",
    "  return df\n",
    "\n",
    "# Example usage (assuming you have populated your warehouses_gdf and customers_gdf DataFrames)\n",
    "shifts_df = calculate_travel_costs(warehouses_gdf, customers_gdf)"
   ]
  },
  {
   "cell_type": "markdown",
   "metadata": {},
   "source": [
    "## Strompreis Berechnung"
   ]
  },
  {
   "cell_type": "code",
   "execution_count": 8,
   "metadata": {},
   "outputs": [],
   "source": [
    "# Calculate timestamps (current time minus 48 hours and current time)\n",
    "current_time = datetime.datetime.now()\n",
    "past_timestamp = (current_time - datetime.timedelta(hours=2190)).timestamp() * 1000\n",
    "current_timestamp = current_time.timestamp() * 1000\n",
    "\n",
    "# Construct the API URL with updated timestamps\n",
    "api_url = f\"https://api.awattar.de/v1/marketdata?start={past_timestamp}&end={current_timestamp}\"\n",
    "\n",
    "# Send GET request using the requests library\n",
    "try:\n",
    "    response = requests.get(api_url)\n",
    "    response.raise_for_status()  # Raise an exception for non-2xx status codes\n",
    "except requests.exceptions.RequestException as error:\n",
    "    print(f\"Error: {error}\")"
   ]
  },
  {
   "cell_type": "code",
   "execution_count": 9,
   "metadata": {},
   "outputs": [
    {
     "name": "stdout",
     "output_type": "stream",
     "text": [
      "Median market price (kWh): 0.06709 Eur/kWh\n",
      "Median market price (kWh): 6.71 Ct/kWh\n",
      "25th percentile (Q1, kWh): 5.28 Ct/kWh\n",
      "75th percentile (Q3, kWh): 8.06 Ct/kWh\n"
     ]
    }
   ],
   "source": [
    "# Load data in json format\n",
    "data = json.loads(response.content)\n",
    "# Extract market prices\n",
    "market_prices = [item[\"marketprice\"] for item in data[\"data\"]]\n",
    "\n",
    "# Calculate quantiles\n",
    "q1, q2, q3 = quantiles(market_prices)  # Use quartiles function\n",
    "\n",
    "# Convert to kWh (if needed)\n",
    "q1_kwh = q1 / 10\n",
    "q2_kwh = q2 / 10\n",
    "q3_kwh = q3 / 10\n",
    "\n",
    "q2_kwh_eur = q2 / 1000\n",
    "\n",
    "print(f\"Median market price (kWh): {q2_kwh_eur:.5f} Eur/kWh\")\n",
    "print(f\"Median market price (kWh): {q2_kwh:.2f} Ct/kWh\")\n",
    "print(f\"25th percentile (Q1, kWh): {q1_kwh:.2f} Ct/kWh\")\n",
    "print(f\"75th percentile (Q3, kWh): {q3_kwh:.2f} Ct/kWh\")"
   ]
  },
  {
   "cell_type": "code",
   "execution_count": null,
   "metadata": {},
   "outputs": [],
   "source": [
    "# Convert JSON data to pandas DataFrame\n",
    "df = pd.DataFrame(data[\"data\"])\n",
    "\n",
    "# Convert timestamps to datetime format\n",
    "df[\"start_timestamp\"] = pd.to_datetime(df[\"start_timestamp\"], unit=\"ms\")\n",
    "df[\"end_timestamp\"] = pd.to_datetime(df[\"end_timestamp\"], unit=\"ms\")\n",
    "\n",
    "# Filter data for values greater than 0\n",
    "df_filtered = df[df[\"marketprice\"] > 0]\n",
    "\n",
    "# Plot market price vs timestamps (using filtered data)\n",
    "plt.figure(figsize=(12, 6))  # Adjust figure size as needed\n",
    "plt.plot(df_filtered[\"start_timestamp\"], df_filtered[\"marketprice\"], label=\"Market Price (Eur/MWh)\")\n",
    "\n",
    "# Set labels and title\n",
    "plt.xlabel(\"Date\")\n",
    "plt.ylabel(\"Market Price (Eur/MWh)\")\n",
    "plt.title(\"Market Price Fluctuations (Values > 0)\")  # Update title\n",
    "\n",
    "# Rotate x-axis labels for better readability\n",
    "plt.xticks(rotation=45)\n",
    "\n",
    "# Set y-axis limits to start from 0 (optional)\n",
    "plt.ylim(bottom=0)  # This ensures the y-axis starts at 0\n",
    "\n",
    "# Add gridlines\n",
    "plt.grid(True)\n",
    "\n",
    "# Show legend\n",
    "plt.legend()\n",
    "\n",
    "plt.tight_layout()\n",
    "plt.show()"
   ]
  },
  {
   "cell_type": "markdown",
   "metadata": {},
   "source": [
    "# Aktuelles Model"
   ]
  },
  {
   "cell_type": "markdown",
   "metadata": {},
   "source": [
    "## Optimierung"
   ]
  },
  {
   "cell_type": "code",
   "execution_count": null,
   "metadata": {},
   "outputs": [],
   "source": [
    "#Capacity\n",
    "#Time Window\n",
    "#Resource Constraint"
   ]
  },
  {
   "cell_type": "code",
   "execution_count": 10,
   "metadata": {},
   "outputs": [],
   "source": [
    "def check_travel_distances(shifts_df, max_flight_distance): \n",
    "   # Assuming 'node_a' and 'node_b' are columns containing node IDs, and 'distance' is the distance column\n",
    "    filtered_data = shifts_df[shifts_df['travel_distance'] < 20]\n",
    "\n",
    "    # Check if all nodes in set B have connections less than 20\n",
    "    unique_nodes_b = filtered_data['region_id'].unique()\n",
    "    all_connected = len(unique_nodes_b) == len(set(shifts_df['region_id']))  # Check if all unique nodes in B are present\n",
    "\n",
    "    if all_connected:\n",
    "        return(\"All nodes in set B have a connection to a node in set A less than 20 units away.\")\n",
    "    else:\n",
    "        return(\"Some nodes in set B might not have connections less than 20 units away.\")"
   ]
  },
  {
   "cell_type": "code",
   "execution_count": 12,
   "metadata": {},
   "outputs": [
    {
     "name": "stdout",
     "output_type": "stream",
     "text": [
      "All nodes in set B have a connection to a node in set A less than 20 units away.\n"
     ]
    }
   ],
   "source": [
    "max_flight_distance = 50 #Kilometer\n",
    "battery_capacity = 1000 * 3600 #Watt Stunden * 3600 = Joul\n",
    "Epm =  battery_capacity/(max_flight_distance * 1000)\n",
    "kWh_km = Epm / 3600000\n",
    "#cost_per_km = q2_kwh_eur * kWh_km\n",
    "cost_per_km = 0.05\n",
    "\n",
    "\n",
    "print(check_travel_distances(shifts_df, max_flight_distance))\n",
    "\n",
    "shifts_df.set_index(['warehouse_id', 'region_id'], inplace=True)\n",
    "customers_gdf.set_index(['cluster'], inplace=True)\n",
    "\n",
    "W = warehouses_gdf.index.values\n",
    "R = customers_gdf.index.values\n",
    "S = shifts_df.index.values\n",
    "\n",
    "M = 1000000"
   ]
  },
  {
   "cell_type": "code",
   "execution_count": 13,
   "metadata": {},
   "outputs": [],
   "source": [
    "# Create a solver\n",
    "solver = pywraplp.Solver('FacilityLocation', pywraplp.Solver.CBC_MIXED_INTEGER_PROGRAMMING)\n",
    "\n",
    "# Define decision variables\n",
    "x = {}\n",
    "for w, r in S:\n",
    "    x[w,r] = solver.IntVar(0, 1, name=f'x_{w}_{r}')\n",
    "\n",
    "y = {}\n",
    "for w in W:\n",
    "    y[w] = solver.IntVar(0, 1, name=f'y_{w}')\n",
    "\n",
    "#Objective Function\n",
    "objective = solver.Minimize(\n",
    "\n",
    "\n",
    "  solver.Sum((y[w] * warehouses_gdf.loc[w, 'total_price_small']) for w in W) + \n",
    "\n",
    "  # Variable costs for transportation\n",
    "  2 * cost_per_km * \n",
    "  solver.Sum([ \n",
    "      s/100 * \n",
    "      solver.Sum([\n",
    "          shifts_df.loc[w,r].travel_distance * x[w,r]\n",
    "          for w, r in S\n",
    "      ])\n",
    "      for s in range(50, 151)\n",
    "  ])\n",
    ")\n",
    "\n",
    "# Constraints\n",
    "# Regions can only be served by open warehouses\n",
    "for w in W:\n",
    "    for r in R:\n",
    "        constraint = solver.Constraint(-solver.infinity(), 0)\n",
    "        constraint.SetCoefficient(x[w,r], 1)\n",
    "        constraint.SetCoefficient(y[w], -1)\n",
    "\n",
    "# Each region has to be served by exactly one warehouse\n",
    "for r in R:\n",
    "    constraint = solver.Constraint(1, 1)\n",
    "    for w in W:\n",
    "        constraint.SetCoefficient(x[w,r], 1)\n",
    "\n",
    "\n",
    "#The distance from warehouse to customer cant be taller than the maximum flight range of each drone\n",
    "for w in W:\n",
    "    for r in R:\n",
    "        max_flight_distance >= x[w,r] * shifts_df.loc[w,r].travel_distance \n",
    "\n",
    "\n",
    "# Each warehouse needs a certain amount of space for each customer served\n",
    "for w in W:\n",
    "    customer_demand_sum = solver.Sum(x[w, r] * customers_gdf.loc[r, 'sum_INSGESAMT_0'] for r in R)\n",
    "    solver.Add(customer_demand_sum * 0.001 <= y[w] * warehouses_gdf.loc[w, 'floorSpace_small'])  # Ensure enough space"
   ]
  },
  {
   "cell_type": "code",
   "execution_count": null,
   "metadata": {},
   "outputs": [],
   "source": [
    "# z = {}\n",
    "# for w in W:\n",
    "#   z[w] = solver.IntVar(0, 1, name=f'z_{w}')\n",
    " \n",
    "\n",
    "    # Fixed costs for opening warehouses depending on size\n",
    "    # solver.Sum((warehouses_gdf.loc[w, 'total_price_big'] * (1 - z[w]) +\n",
    "    #                     warehouses_gdf.loc[w, 'total_price_small'] * z[w])  for w in W) +\n",
    "\n",
    "\n",
    "# # Any warehouse size can only be selected if the warehouse is opened\n",
    "# for w in W:\n",
    "#   constant = y[w]\n",
    "#   solver.Add(constant * (z[w] + 0.5) > 0)\n",
    "\n",
    "\n",
    "# # Each warehouse needs to have a certain amount of space each customer they serve\n",
    "# for w in W:\n",
    "#   customer_demand_sum = solver.Sum(x[w, r] * customers_gdf.loc[r, 'sum_INSGESAMT_0'] for r in R)\n",
    "#   floor_space_requirement = warehouses_gdf.loc[w, 'floorSpace_big']  # Default to large space\n",
    "#   if z[w] == 1:  # If small space selected\n",
    "#     floor_space_requirement = warehouses_gdf.loc[w, 'floorSpace_small']\n",
    "#   solver.Add(customer_demand_sum * 0.0001 <= y[w] * floor_space_requirement)  # Ensure enough space"
   ]
  },
  {
   "cell_type": "markdown",
   "metadata": {},
   "source": [
    "## Lösungsausgabe"
   ]
  },
  {
   "cell_type": "code",
   "execution_count": 14,
   "metadata": {},
   "outputs": [
    {
     "name": "stdout",
     "output_type": "stream",
     "text": [
      "Objective value: 32913.08200447803\n",
      "Opened warehouses:\n",
      "- Warehouse 7\n",
      "Floor-Space: 15.0\n",
      "- Warehouse 10\n",
      "Floor-Space: 250.0\n",
      "- Warehouse 23\n",
      "Floor-Space: 28.0\n",
      "Warehouse assignments:\n",
      "- Region 0 served by warehouse 7\n",
      "- Region 1 served by warehouse 7\n",
      "- Region 2 served by warehouse 7\n",
      "- Region 3 served by warehouse 23\n",
      "- Region 4 served by warehouse 23\n",
      "- Region 5 served by warehouse 7\n",
      "- Region 6 served by warehouse 7\n",
      "- Region 7 served by warehouse 7\n",
      "- Region 8 served by warehouse 7\n",
      "- Region 9 served by warehouse 7\n",
      "- Region 10 served by warehouse 7\n",
      "- Region 11 served by warehouse 7\n",
      "- Region 12 served by warehouse 7\n",
      "- Region 13 served by warehouse 23\n",
      "- Region 14 served by warehouse 7\n",
      "- Region 15 served by warehouse 7\n",
      "- Region 16 served by warehouse 7\n",
      "- Region 17 served by warehouse 7\n",
      "- Region 18 served by warehouse 7\n",
      "- Region 19 served by warehouse 7\n",
      "- Region 20 served by warehouse 7\n",
      "- Region 21 served by warehouse 7\n",
      "- Region 22 served by warehouse 7\n",
      "- Region 23 served by warehouse 7\n",
      "- Region 24 served by warehouse 7\n",
      "- Region 25 served by warehouse 7\n",
      "- Region 26 served by warehouse 7\n",
      "- Region 27 served by warehouse 7\n",
      "- Region 28 served by warehouse 7\n",
      "- Region 29 served by warehouse 23\n",
      "- Region 30 served by warehouse 7\n",
      "- Region 31 served by warehouse 7\n",
      "- Region 32 served by warehouse 7\n",
      "- Region 33 served by warehouse 7\n",
      "- Region 34 served by warehouse 7\n",
      "- Region 35 served by warehouse 7\n",
      "- Region 36 served by warehouse 7\n",
      "- Region 37 served by warehouse 7\n",
      "- Region 38 served by warehouse 7\n",
      "- Region 39 served by warehouse 7\n",
      "- Region 40 served by warehouse 7\n",
      "- Region 41 served by warehouse 7\n",
      "- Region 42 served by warehouse 7\n",
      "- Region 43 served by warehouse 7\n",
      "- Region 44 served by warehouse 7\n",
      "- Region 45 served by warehouse 10\n",
      "- Region 46 served by warehouse 10\n",
      "- Region 47 served by warehouse 7\n",
      "- Region 48 served by warehouse 7\n",
      "- Region 49 served by warehouse 23\n",
      "- Region 50 served by warehouse 10\n",
      "- Region 51 served by warehouse 7\n",
      "- Region 52 served by warehouse 7\n",
      "- Region 53 served by warehouse 23\n",
      "- Region 54 served by warehouse 23\n",
      "- Region 55 served by warehouse 7\n",
      "- Region 56 served by warehouse 23\n",
      "- Region 57 served by warehouse 7\n",
      "- Region 58 served by warehouse 7\n",
      "- Region 59 served by warehouse 7\n",
      "- Region 60 served by warehouse 23\n",
      "- Region 61 served by warehouse 10\n",
      "- Region 62 served by warehouse 7\n",
      "- Region 63 served by warehouse 23\n",
      "- Region 64 served by warehouse 10\n",
      "- Region 65 served by warehouse 7\n",
      "- Region 66 served by warehouse 7\n",
      "- Region 67 served by warehouse 23\n",
      "- Region 68 served by warehouse 7\n",
      "- Region 69 served by warehouse 10\n",
      "- Region 70 served by warehouse 23\n",
      "- Region 71 served by warehouse 23\n",
      "- Region 72 served by warehouse 10\n",
      "- Region 73 served by warehouse 7\n",
      "- Region 74 served by warehouse 10\n",
      "- Region 75 served by warehouse 10\n",
      "- Region 76 served by warehouse 10\n",
      "- Region 77 served by warehouse 7\n",
      "- Region 78 served by warehouse 10\n",
      "- Region 79 served by warehouse 7\n",
      "- Region 80 served by warehouse 10\n",
      "- Region 81 served by warehouse 10\n",
      "- Region 82 served by warehouse 23\n",
      "- Region 83 served by warehouse 10\n",
      "- Region 84 served by warehouse 10\n",
      "- Region 85 served by warehouse 10\n",
      "- Region 86 served by warehouse 7\n",
      "- Region 87 served by warehouse 10\n",
      "- Region 88 served by warehouse 7\n",
      "- Region 89 served by warehouse 23\n",
      "- Region 90 served by warehouse 7\n",
      "- Region 91 served by warehouse 23\n",
      "- Region 92 served by warehouse 7\n",
      "- Region 93 served by warehouse 23\n",
      "- Region 94 served by warehouse 10\n",
      "- Region 95 served by warehouse 7\n",
      "- Region 96 served by warehouse 10\n",
      "- Region 97 served by warehouse 10\n",
      "- Region 98 served by warehouse 7\n",
      "- Region 99 served by warehouse 23\n",
      "- Region 100 served by warehouse 7\n",
      "- Region 101 served by warehouse 10\n",
      "- Region 102 served by warehouse 10\n",
      "- Region 103 served by warehouse 7\n",
      "- Region 104 served by warehouse 23\n",
      "- Region 105 served by warehouse 7\n",
      "- Region 106 served by warehouse 10\n",
      "- Region 107 served by warehouse 7\n",
      "- Region 108 served by warehouse 7\n",
      "- Region 109 served by warehouse 7\n",
      "- Region 110 served by warehouse 7\n",
      "- Region 111 served by warehouse 10\n",
      "- Region 112 served by warehouse 10\n",
      "- Region 113 served by warehouse 10\n",
      "- Region 114 served by warehouse 7\n",
      "- Region 115 served by warehouse 7\n",
      "- Region 116 served by warehouse 7\n",
      "- Region 117 served by warehouse 10\n",
      "- Region 118 served by warehouse 7\n",
      "- Region 119 served by warehouse 10\n",
      "- Region 120 served by warehouse 7\n",
      "- Region 121 served by warehouse 10\n",
      "- Region 122 served by warehouse 10\n",
      "- Region 123 served by warehouse 10\n",
      "- Region 124 served by warehouse 10\n",
      "- Region 125 served by warehouse 23\n",
      "- Region 126 served by warehouse 10\n",
      "- Region 127 served by warehouse 10\n",
      "- Region 128 served by warehouse 10\n",
      "- Region 129 served by warehouse 10\n",
      "- Region 130 served by warehouse 10\n",
      "- Region 131 served by warehouse 10\n",
      "- Region 132 served by warehouse 10\n",
      "- Region 133 served by warehouse 10\n",
      "- Region 134 served by warehouse 10\n",
      "- Region 135 served by warehouse 10\n",
      "- Region 136 served by warehouse 10\n",
      "- Region 137 served by warehouse 23\n",
      "- Region 138 served by warehouse 10\n",
      "- Region 139 served by warehouse 10\n",
      "- Region 140 served by warehouse 10\n",
      "- Region 141 served by warehouse 10\n",
      "- Region 142 served by warehouse 10\n",
      "- Region 143 served by warehouse 10\n",
      "- Region 144 served by warehouse 10\n",
      "- Region 145 served by warehouse 10\n",
      "- Region 146 served by warehouse 10\n",
      "- Region 147 served by warehouse 23\n",
      "- Region 148 served by warehouse 23\n",
      "- Region 149 served by warehouse 10\n",
      "- Region 150 served by warehouse 10\n",
      "- Region 151 served by warehouse 10\n",
      "- Region 152 served by warehouse 10\n",
      "- Region 153 served by warehouse 10\n",
      "- Region 154 served by warehouse 10\n",
      "- Region 155 served by warehouse 10\n",
      "- Region 156 served by warehouse 10\n",
      "- Region 157 served by warehouse 10\n",
      "- Region 158 served by warehouse 10\n",
      "- Region 159 served by warehouse 10\n",
      "- Region 160 served by warehouse 10\n",
      "- Region 161 served by warehouse 23\n",
      "- Region 162 served by warehouse 23\n",
      "- Region 163 served by warehouse 10\n",
      "- Region 164 served by warehouse 10\n",
      "- Region 165 served by warehouse 10\n",
      "- Region 166 served by warehouse 10\n",
      "- Region 167 served by warehouse 10\n",
      "- Region 168 served by warehouse 23\n",
      "- Region 169 served by warehouse 10\n",
      "- Region 170 served by warehouse 23\n",
      "- Region 171 served by warehouse 10\n",
      "- Region 172 served by warehouse 10\n",
      "- Region 173 served by warehouse 23\n",
      "- Region 174 served by warehouse 10\n",
      "- Region 175 served by warehouse 23\n",
      "- Region 176 served by warehouse 10\n",
      "- Region 177 served by warehouse 23\n",
      "- Region 178 served by warehouse 23\n",
      "- Region 179 served by warehouse 10\n",
      "- Region 180 served by warehouse 23\n",
      "- Region 181 served by warehouse 23\n",
      "- Region 182 served by warehouse 23\n",
      "- Region 183 served by warehouse 23\n",
      "- Region 184 served by warehouse 23\n",
      "- Region 185 served by warehouse 23\n",
      "- Region 186 served by warehouse 23\n",
      "- Region 187 served by warehouse 10\n",
      "- Region 188 served by warehouse 23\n",
      "- Region 189 served by warehouse 23\n",
      "- Region 190 served by warehouse 10\n",
      "- Region 191 served by warehouse 23\n"
     ]
    }
   ],
   "source": [
    "opened_warehouses = []\n",
    "customers_gdf['assigned_warehouse'] = 0\n",
    "cluster_gdf['assigned_warehouse'] = 0\n",
    "\n",
    "\n",
    "def print_solution(solver, x, y, W, R):\n",
    "\n",
    "  status = solver.Solve()\n",
    "\n",
    "  if status == pywraplp.Solver.OPTIMAL:\n",
    "    print(\"Objective value:\", solver.Objective().Value())\n",
    "    print(\"Opened warehouses:\")\n",
    "    opened_warehouses.clear()  # Clear the list before appending\n",
    "    for w in W:\n",
    "      if y[w].solution_value() > 0.5:\n",
    "        opened_warehouses.append(w)\n",
    "        print(f\"- Warehouse {w}\")\n",
    "        print(f\"Floor-Space: {warehouses_gdf.loc[w, 'floorSpace_small']}\")\n",
    "    print(\"Warehouse assignments:\")\n",
    "    for r in R:\n",
    "      assigned_warehouse = None\n",
    "      for w in W:\n",
    "        if x[w, r].solution_value() > 0.5:\n",
    "          assigned_warehouse = w\n",
    "          break\n",
    "      if assigned_warehouse:\n",
    "        customers_gdf.loc[r, 'assigned_warehouse'] = assigned_warehouse\n",
    "        cluster_gdf.loc[r, 'assigned_warehouse'] = assigned_warehouse\n",
    "        print(f\"- Region {r} served by warehouse {assigned_warehouse}\")\n",
    "      else:\n",
    "        print(f\"- Region {r} has no assigned warehouse (might be infeasible)\")\n",
    "  else:\n",
    "    print(\"Solver failed to find an optimal solution. Status:\", status)\n",
    "\n",
    "\n",
    "print_solution(solver, x, y, W, R)"
   ]
  },
  {
   "cell_type": "code",
   "execution_count": 15,
   "metadata": {},
   "outputs": [
    {
     "data": {
      "image/png": "[encoded data removed]",
      "text/plain": [
       "<Figure size 700x700 with 1 Axes>"
      ]
     },
     "metadata": {},
     "output_type": "display_data"
    }
   ],
   "source": [
    "#Rahmen der Grafik definieren\n",
    "ax = geo_würzburg.boundary.plot(color='gray', linewidth=0.5, figsize = (7,7))\n",
    "\n",
    "# Plotte gdf_loaded auf dieselbe Achse\n",
    "warehouses_gdf[~warehouses_gdf.index.isin(opened_warehouses)].plot(ax=ax, color='red', marker='o', markersize=25)\n",
    "warehouses_gdf.loc[opened_warehouses].plot(ax=ax, color='blue', marker='^', markersize=35)\n",
    "\n",
    "# Titel hinzufügen\n",
    "plt.title('Lagerhaltungsimmobilien des Landkreis Würzburg')\n",
    "\n",
    "plt.axis('off')\n",
    "\n",
    "# Add scale bar\n",
    "scalebar = ScaleBar(1, location='lower left', label='Maßstab')\n",
    "ax.add_artist(scalebar)\n",
    "\n",
    "# Add legend\n",
    "custom_legend = [Line2D([0], [0], marker='^', color='w', markerfacecolor='blue', markersize=10, label='Geöffnet'),\n",
    "                 Line2D([0], [0], marker='o', color='w', markerfacecolor='red', markersize=10, label='Nicht geöffnet')]\n",
    "plt.legend(handles=custom_legend, title='Warenhäuser', bbox_to_anchor=(1,0.95), loc='upper left', borderaxespad=0., fontsize='small', ncol=1)\n",
    "plt.tight_layout()\n",
    "\n",
    "# # Index jedes Warehouses anzeigen\n",
    "# for idx, row in warehouses_gdf.loc[opened_warehouses].iterrows():\n",
    "#     plt.annotate(idx, (row.geometry.x, row.geometry.y), xytext=(5, 5), textcoords='offset points', fontsize=8, color='black')\n",
    "\n",
    "\n",
    "# # Index jedes Warehouses anzeigen\n",
    "# for idx, row in warehouses_gdf[~warehouses_gdf.index.isin(opened_warehouses)].iterrows():\n",
    "#     plt.annotate(idx, (row.geometry.x, row.geometry.y), xytext=(5, 5), textcoords='offset points', fontsize=8, color='black')\n",
    "\n",
    "# Zeige den Plot an\n",
    "plt.show()"
   ]
  },
  {
   "cell_type": "code",
   "execution_count": null,
   "metadata": {},
   "outputs": [],
   "source": [
    "# Create a colormap with a color for each opened warehouse\n",
    "colors = plt.cm.tab20(np.linspace(0, 1, len(opened_warehouses)))\n",
    "warehouse_colors = dict(zip(opened_warehouses, colors))\n",
    "\n",
    "# Create a dictionary to map each warehouse to a color\n",
    "warehouse_colors = {\n",
    "    warehouse: color\n",
    "    for warehouse, color in zip(opened_warehouses, warehouse_colors.values())\n",
    "}\n",
    "\n",
    "# Plot the boundaries of the region\n",
    "ax = geo_würzburg.boundary.plot(color='gray', linewidth=0.5, figsize=(8, 8))\n",
    "\n",
    "\n",
    "# Plot the customers with the color of their assigned warehouse\n",
    "for index, row in customers_gdf.iterrows():\n",
    "    warehouse = row['assigned_warehouse']\n",
    "    color = warehouse_colors.get(warehouse, 'gray')  # Use gray color if warehouse is not in the dictionary\n",
    "    customers_gdf.iloc[[index]].plot(ax=ax, color=color, markersize=20)\n",
    "\n",
    "\n",
    "# Plot the warehouses with their assigned colors\n",
    "for warehouse, color in warehouse_colors.items():\n",
    "    warehouses_gdf[warehouses_gdf.index == warehouse].plot(ax=ax, color=color, marker='^', markersize=50, edgecolor='black')\n",
    "\n",
    "\n",
    "# Turn off axis\n",
    "plt.axis('off')\n",
    "\n",
    "# Add title\n",
    "plt.title('Lagerhaltungsimmobilien des Landkreis Würzburg')\n",
    "\n",
    "# Add legend\n",
    "legend_handles = [Line2D([0], [0], marker='^', color='w', markerfacecolor=color, markersize=10, label=warehouse) for warehouse, color in warehouse_colors.items()]\n",
    "ax.legend(handles=legend_handles, title='Warenhäuser', bbox_to_anchor=(1.05, 1), loc='upper left', borderaxespad=0., fontsize='small', ncol=2)\n",
    "\n",
    "# Add scale bar\n",
    "scalebar = ScaleBar(1, location='lower left', label='Maßstab')\n",
    "ax.add_artist(scalebar)\n",
    "\n",
    "# Show the plot\n",
    "plt.show()"
   ]
  },
  {
   "cell_type": "markdown",
   "metadata": {},
   "source": [
    "# Simulation"
   ]
  },
  {
   "cell_type": "markdown",
   "metadata": {},
   "source": [
    "## Datentransformationen und Precalculations"
   ]
  },
  {
   "cell_type": "code",
   "execution_count": 18,
   "metadata": {},
   "outputs": [],
   "source": [
    "columns_to_drop = ['name', 'building', 'addr:street', 'addr:housenumber', 'addr:postcode']\n",
    "bevölkerungs_gdf = gpd.read_file('./GeoDaten/Buildings_Raster_Demographie.gpkg')\n",
    "bevölkerungs_gdf['Alter'] = bevölkerungs_gdf['Alter'].apply(json.loads)\n",
    "bevölkerungs_gdf['Geschlecht'] = bevölkerungs_gdf['Geschlecht'].apply(json.loads)\n",
    "bevölkerungs_gdf.drop(columns=columns_to_drop, inplace=True)\n",
    "\n",
    "pharmacy_df = pd.read_csv('./OSM_Data/Würzburg-Apotheken.csv')\n",
    "pharmacy_gdf = gpd.GeoDataFrame(pharmacy_df, geometry=gpd.points_from_xy(pharmacy_df['lon'], pharmacy_df['lat']), crs=CRS(\"EPSG:4326\"))\n",
    "pharmacy_gdf = pharmacy_gdf.to_crs(bevölkerungs_gdf.crs)"
   ]
  },
  {
   "cell_type": "code",
   "execution_count": null,
   "metadata": {},
   "outputs": [],
   "source": [
    "# Definiere die Projektionen\n",
    "in_proj = Proj(init='epsg:3035')  # CSR3035\n",
    "out_proj = Proj(init='epsg:4326')  # WGS84 (Längen- und Breitengrade)\n",
    "\n",
    "# Funktion zum Umwandeln von CSR3035-Koordinaten in Längen- und Breitengrade\n",
    "def csr3035_to_latlon(point):\n",
    "    x_csr3035 = point.x\n",
    "    y_csr3035 = point.y\n",
    "    lon, lat = transform(in_proj, out_proj, x_csr3035, y_csr3035)\n",
    "    return lon, lat\n",
    "\n",
    "# Wende die Funktion auf die Geometry-Spalte an und erstelle neue Spalten für Längen- und Breitengrade\n",
    "customers_gdf['lon'], customers_gdf['lat'] = zip(*customers_gdf['geometry'].apply(lambda point: csr3035_to_latlon(point)))\n"
   ]
  },
  {
   "cell_type": "code",
   "execution_count": 63,
   "metadata": {},
   "outputs": [],
   "source": [
    "def find_nearest_point_with_cKDTree(lon, lat, points_df):\n",
    "  coordinates = np.array(points_df[['lon', 'lat']])\n",
    "  reference_point = np.array([lon, lat])\n",
    "\n",
    "  # Calculate pairwise squared distances (faster for cKDTree)\n",
    "  distances = np.sum((coordinates - reference_point)**2, axis=1)\n",
    "\n",
    "  # Find index of minimum distance\n",
    "  idx = np.argmin(distances)\n",
    "\n",
    "  return points_df.iloc[idx]  # Use iloc for faster integer indexing"
   ]
  },
  {
   "cell_type": "code",
   "execution_count": 75,
   "metadata": {},
   "outputs": [],
   "source": [
    "request_string = 'http://router.project-osrm.org/route/v1/driving/'\n",
    "def calculate_distance_to_nearest_pharmacy(row):\n",
    "\n",
    "    nearest_pharmacy = find_nearest_point_with_cKDTree(row.lon, row.lat, pharmacy_gdf)\n",
    "\n",
    "    lon_build = row.lon\n",
    "    lat_build = row.lat\n",
    "    lon_pharm = nearest_pharmacy.lon\n",
    "    lat_pharm = nearest_pharmacy.lat\n",
    "\n",
    "\n",
    "    res = requests.get(request_string + str(lon_build) + ',' + str(lat_build) + ';' + str(lon_pharm) + ',' + str(lat_pharm) + '?overview=false')\n",
    "    if res.status_code == 200:\n",
    "        content = json.loads(res.content)\n",
    "        return content['routes'][0]['legs'][0]['distance'], content['routes'][0]['legs'][0]['duration'], nearest_pharmacy['id']\n",
    "    return 0"
   ]
  },
  {
   "cell_type": "code",
   "execution_count": null,
   "metadata": {},
   "outputs": [],
   "source": [
    "customers_gdf['distance_pharmacy'] = 0\n",
    "customers_gdf['time_pharmacy'] = 0\n",
    "customers_gdf['assigned_pharmacy'] = 0 \n",
    "\n",
    "# Iterate through rows\n",
    "for index, row in tqdm(customers_gdf.iterrows(), total=len(customers_gdf)):\n",
    "    distance, time, pharmacy = calculate_distance_to_nearest_pharmacy(row)\n",
    "    customers_gdf.loc[index, 'distance_pharmacy'] = distance\n",
    "    customers_gdf.loc[index, 'time_pharmacy'] = time\n",
    "    customers_gdf.loc[index, 'assigned_pharmacy'] = pharmacy\n",
    "\n",
    "cluster_gdf['distance_pharmacy'] = customers_gdf['distance_pharmacy']\n",
    "cluster_gdf['time_pharmacy'] = customers_gdf['time_pharmacy']\n",
    "cluster_gdf['assigned_pharmacy'] = customers_gdf['assigned_pharmacy']"
   ]
  },
  {
   "cell_type": "code",
   "execution_count": 225,
   "metadata": {},
   "outputs": [],
   "source": [
    "# Räumlichen Index für das Cluster-GDF erstellen\n",
    "cluster_sindex = cluster_gdf.sindex\n",
    "\n",
    "# Funktion, um das zugewiesene Lager für einen Punkt zu finden\n",
    "def find_assigned_warehouse(point):\n",
    "    possible_matches_index = list(cluster_sindex.intersection(point.bounds))\n",
    "    possible_matches = cluster_gdf.iloc[possible_matches_index]\n",
    "    output = possible_matches[possible_matches.geometry.contains(point)]\n",
    "    if not output.empty:\n",
    "        return [output.assigned_warehouse.iloc[0], output.assigned_pharmacy.iloc[0], output.distance_pharmacy.iloc[0], output.time_pharmacy.iloc[0]]\n",
    "    else:\n",
    "        nearest_polygon_index = cluster_sindex.nearest(point)[0]\n",
    "        nearest_polygon = cluster_gdf.iloc[nearest_polygon_index]\n",
    "        return [nearest_polygon.assigned_warehouse.iloc[0], nearest_polygon.assigned_pharmacy.iloc[0], nearest_polygon.distance_pharmacy.iloc[0], nearest_polygon.time_pharmacy.iloc[0]]"
   ]
  },
  {
   "cell_type": "code",
   "execution_count": 226,
   "metadata": {},
   "outputs": [
    {
     "name": "stderr",
     "output_type": "stream",
     "text": [
      "  0%|          | 0/124795 [00:00<?, ?it/s]"
     ]
    },
    {
     "name": "stderr",
     "output_type": "stream",
     "text": [
      "100%|██████████| 124795/124795 [05:37<00:00, 370.05it/s]\n",
      "  0%|          | 0/124795 [00:00<?, ?it/s]/var/folders/27/swfwml_s47d2057hcqghw7dh0000gn/T/ipykernel_2641/1088085315.py:16: FutureWarning: Setting an item of incompatible dtype is deprecated and will raise in a future error of pandas. Value '2869.1' has dtype incompatible with int64, please explicitly cast to a compatible dtype first.\n",
      "  bevölkerungs_gdf.loc[index, 'distance_pharmacy'] = warehouses[index][2]\n",
      "/var/folders/27/swfwml_s47d2057hcqghw7dh0000gn/T/ipykernel_2641/1088085315.py:17: FutureWarning: Setting an item of incompatible dtype is deprecated and will raise in a future error of pandas. Value '273.8' has dtype incompatible with int64, please explicitly cast to a compatible dtype first.\n",
      "  bevölkerungs_gdf.loc[index, 'time_pharmacy'] = warehouses[index][3]\n",
      "/var/folders/27/swfwml_s47d2057hcqghw7dh0000gn/T/ipykernel_2641/1088085315.py:21: FutureWarning: Setting an item of incompatible dtype is deprecated and will raise in a future error of pandas. Value '11407.063391621863' has dtype incompatible with int64, please explicitly cast to a compatible dtype first.\n",
      "  bevölkerungs_gdf.loc[index, 'distance_warehouse'] = warehouse_geometry.distance(population_geometry)\n",
      "100%|██████████| 124795/124795 [01:10<00:00, 1778.63it/s]\n"
     ]
    }
   ],
   "source": [
    "# Verfolgen Sie den Fortschritt der apply-Methode\n",
    "tqdm.pandas()\n",
    "\n",
    "# Die apply-Methode auf die GeoDataFrame anwenden, um das zugewiesene Lager für jeden Punkt zu finden\n",
    "warehouses = bevölkerungs_gdf['geometry'].progress_apply(find_assigned_warehouse)\n",
    "\n",
    "bevölkerungs_gdf['distance_pharmacy'] = 0\n",
    "bevölkerungs_gdf['time_pharmacy'] = 0\n",
    "bevölkerungs_gdf['assigned_pharmacy'] = 0 \n",
    "bevölkerungs_gdf['assigned_warehouse'] = 0\n",
    "bevölkerungs_gdf['distance_warehouse'] = 0\n",
    "\n",
    "for index, row in tqdm(bevölkerungs_gdf.iterrows(), total=len(bevölkerungs_gdf)):\n",
    "    bevölkerungs_gdf.loc[index, 'assigned_warehouse'] = warehouses[index][0]\n",
    "    bevölkerungs_gdf.loc[index, 'assigned_pharmacy'] = warehouses[index][1]\n",
    "    bevölkerungs_gdf.loc[index, 'distance_pharmacy'] = warehouses[index][2]\n",
    "    bevölkerungs_gdf.loc[index, 'time_pharmacy'] = warehouses[index][3]\n",
    "\n",
    "    warehouse_geometry = warehouses_gdf.loc[row['assigned_warehouse']]['geometry']\n",
    "    population_geometry = row['geometry']\n",
    "    bevölkerungs_gdf.loc[index, 'distance_warehouse'] = warehouse_geometry.distance(population_geometry)\n"
   ]
  },
  {
   "cell_type": "code",
   "execution_count": 229,
   "metadata": {},
   "outputs": [],
   "source": [
    "bevölkerungs_gdf['Alter'] = bevölkerungs_gdf['Alter'].apply(json.dumps)\n",
    "bevölkerungs_gdf['Geschlecht'] = bevölkerungs_gdf['Geschlecht'].apply(json.dumps)\n",
    "bevölkerungs_gdf.to_file('./WLP/pharmacy_assigned.gpkg', driver='GPKG')"
   ]
  },
  {
   "cell_type": "markdown",
   "metadata": {},
   "source": [
    "## OSM Routing"
   ]
  },
  {
   "cell_type": "code",
   "execution_count": 211,
   "metadata": {},
   "outputs": [],
   "source": [
    "request_string = 'http://router.project-osrm.org/route/v1/driving/'\n",
    "def calculate_distance_to_nearest_pharmacy(row):\n",
    "\n",
    "    nearest_pharmacy = pharmacy_gdf[pharmacy_gdf['id'] == row.assigned_pharmacy]\n",
    "\n",
    "    lon_build = row.lon\n",
    "    lat_build = row.lat\n",
    "    lon_pharm = nearest_pharmacy.lon.iloc[0]\n",
    "    lat_pharm = nearest_pharmacy.lat.iloc[0]\n",
    "\n",
    "    res = requests.get(request_string + str(lon_build) + ',' + str(lat_build) + ';' + str(lon_pharm) + ',' + str(lat_pharm) + '?overview=false')\n",
    "    if res.status_code == 200:\n",
    "        content = json.loads(res.content)\n",
    "        return content['routes'][0]['legs'][0]['distance'], content['routes'][0]['legs'][0]['duration']\n",
    "    \n",
    "    return 0, 0"
   ]
  },
  {
   "cell_type": "code",
   "execution_count": null,
   "metadata": {},
   "outputs": [],
   "source": [
    "for index, row in tqdm(bevölkerungs_gdf.iterrows(), total=len(bevölkerungs_gdf)):\n",
    "    distance, time = calculate_distance_to_nearest_pharmacy(row)\n",
    "    bevölkerungs_gdf.loc[index, 'distance_pharmacy'] = distance\n",
    "    bevölkerungs_gdf.loc[index, 'time_pharmacy'] = time"
   ]
  },
  {
   "cell_type": "code",
   "execution_count": 209,
   "metadata": {},
   "outputs": [],
   "source": [
    "def calculate_distance_to_nearest_pharmacy(df):\n",
    "\n",
    "  request_string = 'http://router.project-osrm.org/route/v1/driving/'\n",
    "\n",
    "  # Extract origin coordinates (lon, lat) and nearest pharmacy IDs\n",
    "  origins = df[['lon', 'lat']]\n",
    "  pharmacy_ids = df['assigned_pharmacy']\n",
    "\n",
    "  # Prepare request waypoints\n",
    "  waypoints = []\n",
    "  for i in range(len(origins)):\n",
    "    origin_lon = origins.loc[i, 'lon']\n",
    "    origin_lat = origins.loc[i, 'lat']\n",
    "    pharmacy_id = pharmacy_ids.iloc[i]\n",
    "    nearest_pharmacy = pharmacy_gdf[pharmacy_gdf['id'] == pharmacy_id]\n",
    "    pharmacy_lon = nearest_pharmacy.lon.iloc[0]\n",
    "    pharmacy_lat = nearest_pharmacy.lat.iloc[0]\n",
    "    waypoint = f\"{origin_lon},{origin_lat};{pharmacy_lon},{pharmacy_lat}\"\n",
    "    waypoints.append(waypoint)\n",
    "\n",
    "  # Construct the batch request string\n",
    "  request_string = f\"{request_string}?steps=true&geometries=geojson\"  # Include steps and geometries in response\n",
    "  batch_string = ';'.join(waypoints)\n",
    "  url = request_string + batch_string\n",
    "\n",
    "  print(url)\n",
    "\n",
    "  try:\n",
    "    with tqdm(total=len(df), desc=\"Calculating distances and times\") as pbar:\n",
    "      res = requests.get(url)\n",
    "      res.raise_for_status()  # Raise an exception for non-200 status codes\n",
    "      pbar.update()  # Update progress bar after successful request\n",
    "  except requests.exceptions.RequestException as e:\n",
    "    print(f\"Error making batch request: {e}\")\n",
    "    return pd.DataFrame(), pd.DataFrame()  # Return empty DataFrames on error\n",
    "\n",
    "  # Parse the response\n",
    "  content = json.loads(res.content)\n",
    "\n",
    "  processed_routes = 0\n",
    "\n",
    "  # Extract distances and times from each route in the response\n",
    "  distances = []\n",
    "  times = []\n",
    "  for route in content['routes']:\n",
    "    if 'legs' in route and len(route['legs']) > 0:\n",
    "        distances.append(route['legs'][0]['distance'])\n",
    "        times.append(route['legs'][0]['duration'])\n",
    "    else:\n",
    "        distances.append(0)  # Handle cases where no route is found\n",
    "        times.append(0)\n",
    "        processed_routes += 1\n",
    "        print(f\"Processed routes: {processed_routes} / {len(df)}\")\n",
    "\n",
    "  # Create DataFrames for distances and times\n",
    "  distances_df = pd.DataFrame({'origin_id': df.index, 'distance': distances})\n",
    "  times_df = pd.DataFrame({'origin_id': df.index, 'time': times})\n",
    "\n",
    "  return distances_df, times_df\n"
   ]
  },
  {
   "cell_type": "code",
   "execution_count": null,
   "metadata": {},
   "outputs": [],
   "source": [
    "# Call the function with the DataFrame\n",
    "distances_df, times_df = calculate_distance_to_nearest_pharmacy(bevölkerungs_gdf.copy())\n",
    "\n",
    "# Add distance and time information to the original DataFrame (optional)\n",
    "bevölkerungs_gdf['distance_pharmacy'] = distances_df['distance']\n",
    "bevölkerungs_gdf['time_pharmacy'] = times_df['time']"
   ]
  },
  {
   "cell_type": "code",
   "execution_count": null,
   "metadata": {},
   "outputs": [],
   "source": [
    "bevölkerungs_gdf['Alter'] = bevölkerungs_gdf['Alter'].apply(json.dumps)\n",
    "bevölkerungs_gdf['Geschlecht'] = bevölkerungs_gdf['Geschlecht'].apply(json.dumps)\n",
    "bevölkerungs_gdf.to_file('./WLP/pharmacy_assigned.gpkg', driver='GPKG')"
   ]
  },
  {
   "cell_type": "markdown",
   "metadata": {},
   "source": [
    "## Simulations Loop"
   ]
  },
  {
   "cell_type": "code",
   "execution_count": 238,
   "metadata": {},
   "outputs": [],
   "source": [
    "bevölkerungs_gdf = gpd.read_file('./WLP/pharmacy_assigned.gpkg')\n",
    "bevölkerungs_gdf['Alter'] = bevölkerungs_gdf['Alter'].apply(json.loads)\n",
    "bevölkerungs_gdf['Geschlecht'] = bevölkerungs_gdf['Geschlecht'].apply(json.loads)"
   ]
  },
  {
   "cell_type": "code",
   "execution_count": 230,
   "metadata": {},
   "outputs": [
    {
     "data": {
      "image/png": "[encoded data removed]",
      "text/plain": [
       "<Figure size 600x600 with 1 Axes>"
      ]
     },
     "metadata": {},
     "output_type": "display_data"
    }
   ],
   "source": [
    "# Rahmen der Grafik definieren\n",
    "fig, ax = plt.subplots(figsize=(6, 6))\n",
    "geo_würzburg.boundary.plot(ax=ax, color='gray', linewidth=0.5)\n",
    "\n",
    "# Plotte gdf_loaded auf dieselbe Achse\n",
    "pharmacy_gdf.plot(ax=ax, markersize=20)\n",
    "\n",
    "# Titel hinzufügen\n",
    "plt.title('Apothekenstandorte im Landkreis Würzburg')\n",
    "plt.axis('off')\n",
    "\n",
    "# Add scale bar\n",
    "scalebar = ScaleBar(1, location='lower left', label='Maßstab')\n",
    "ax.add_artist(scalebar)\n",
    "\n",
    "# Zeige den Plot an\n",
    "plt.show()"
   ]
  },
  {
   "cell_type": "code",
   "execution_count": 242,
   "metadata": {},
   "outputs": [],
   "source": [
    "# Wahrscheinlichkeitsverteilung\n",
    "probabilities = {\n",
    "    '0-10': 0.01,\n",
    "    '10-20': 0.02,\n",
    "    '20-30': 0.03,\n",
    "    '30-40': 0.04,\n",
    "    '40-50': 0.07,\n",
    "    '50-60': 0.09,\n",
    "    '60-70': 0.1,\n",
    "    '70-80': 0.15,\n",
    "    '80+': 0.2\n",
    "}\n",
    "\n",
    "cost_per_km_drone = 0.5\n",
    "cost_per_km_car = 2\n",
    "\n",
    "drone_transportation_cost = 0\n",
    "car_transportation_cost = 0\n",
    "car_transportation_time = 0\n",
    "factory_cost = warehouses_gdf.loc[opened_warehouses].total_price_small.sum()"
   ]
  },
  {
   "cell_type": "code",
   "execution_count": 247,
   "metadata": {},
   "outputs": [
    {
     "name": "stdout",
     "output_type": "stream",
     "text": [
      "Simulation - Monat: 1\n"
     ]
    },
    {
     "name": "stderr",
     "output_type": "stream",
     "text": [
      "100%|██████████| 124795/124795 [01:18<00:00, 1596.36it/s]\n",
      "100%|██████████| 124795/124795 [00:27<00:00, 4536.09it/s]\n"
     ]
    },
    {
     "name": "stdout",
     "output_type": "stream",
     "text": [
      "Simulation - Monat: 2\n"
     ]
    },
    {
     "name": "stderr",
     "output_type": "stream",
     "text": [
      "100%|██████████| 124795/124795 [01:14<00:00, 1669.07it/s]\n",
      "100%|██████████| 124795/124795 [00:28<00:00, 4325.79it/s]\n"
     ]
    },
    {
     "name": "stdout",
     "output_type": "stream",
     "text": [
      "Simulation - Monat: 3\n"
     ]
    },
    {
     "name": "stderr",
     "output_type": "stream",
     "text": [
      "100%|██████████| 124795/124795 [01:14<00:00, 1683.64it/s]\n",
      "100%|██████████| 124795/124795 [00:26<00:00, 4768.90it/s]\n"
     ]
    },
    {
     "name": "stdout",
     "output_type": "stream",
     "text": [
      "Simulation - Monat: 4\n"
     ]
    },
    {
     "name": "stderr",
     "output_type": "stream",
     "text": [
      "100%|██████████| 124795/124795 [01:18<00:00, 1592.44it/s]\n",
      "100%|██████████| 124795/124795 [00:26<00:00, 4668.02it/s]\n"
     ]
    },
    {
     "name": "stdout",
     "output_type": "stream",
     "text": [
      "Simulation - Monat: 5\n"
     ]
    },
    {
     "name": "stderr",
     "output_type": "stream",
     "text": [
      "100%|██████████| 124795/124795 [01:10<00:00, 1767.51it/s]\n",
      "100%|██████████| 124795/124795 [00:26<00:00, 4681.84it/s]\n"
     ]
    },
    {
     "name": "stdout",
     "output_type": "stream",
     "text": [
      "Simulation - Monat: 6\n"
     ]
    },
    {
     "name": "stderr",
     "output_type": "stream",
     "text": [
      "100%|██████████| 124795/124795 [01:09<00:00, 1798.92it/s]\n",
      "100%|██████████| 124795/124795 [00:26<00:00, 4789.99it/s]\n"
     ]
    },
    {
     "name": "stdout",
     "output_type": "stream",
     "text": [
      "Simulation - Monat: 7\n"
     ]
    },
    {
     "name": "stderr",
     "output_type": "stream",
     "text": [
      "100%|██████████| 124795/124795 [01:09<00:00, 1796.94it/s]\n",
      "100%|██████████| 124795/124795 [00:26<00:00, 4770.47it/s]\n"
     ]
    },
    {
     "name": "stdout",
     "output_type": "stream",
     "text": [
      "Simulation - Monat: 8\n"
     ]
    },
    {
     "name": "stderr",
     "output_type": "stream",
     "text": [
      "100%|██████████| 124795/124795 [01:10<00:00, 1778.56it/s]\n",
      "100%|██████████| 124795/124795 [00:26<00:00, 4766.05it/s]\n"
     ]
    },
    {
     "name": "stdout",
     "output_type": "stream",
     "text": [
      "Simulation - Monat: 9\n"
     ]
    },
    {
     "name": "stderr",
     "output_type": "stream",
     "text": [
      "100%|██████████| 124795/124795 [01:17<00:00, 1613.54it/s]\n",
      "100%|██████████| 124795/124795 [00:31<00:00, 4000.65it/s]\n"
     ]
    },
    {
     "name": "stdout",
     "output_type": "stream",
     "text": [
      "Simulation - Monat: 10\n"
     ]
    },
    {
     "name": "stderr",
     "output_type": "stream",
     "text": [
      "100%|██████████| 124795/124795 [01:10<00:00, 1771.90it/s]\n",
      "100%|██████████| 124795/124795 [00:25<00:00, 4982.29it/s]\n"
     ]
    },
    {
     "name": "stdout",
     "output_type": "stream",
     "text": [
      "Simulation - Monat: 11\n"
     ]
    },
    {
     "name": "stderr",
     "output_type": "stream",
     "text": [
      "100%|██████████| 124795/124795 [01:09<00:00, 1802.93it/s]\n",
      "100%|██████████| 124795/124795 [00:25<00:00, 4852.92it/s]\n"
     ]
    },
    {
     "name": "stdout",
     "output_type": "stream",
     "text": [
      "Simulation - Monat: 12\n"
     ]
    },
    {
     "name": "stderr",
     "output_type": "stream",
     "text": [
      "100%|██████████| 124795/124795 [01:08<00:00, 1827.21it/s]\n",
      "100%|██████████| 124795/124795 [00:25<00:00, 4886.96it/s]\n"
     ]
    }
   ],
   "source": [
    "#Loop der Simulation über ein gesamtes Jahr\n",
    "for i in range(12):\n",
    "\n",
    "    print(f'Simulation - Monat: {i + 1}')\n",
    "\n",
    "    bevölkerungs_gdf['nachfrage'] = 0\n",
    "\n",
    "    # Nachfrage des Tages berechnen und in Nachfragespalte speichern\n",
    "    for index, row in tqdm(bevölkerungs_gdf.iterrows(), total=len(bevölkerungs_gdf)):\n",
    "        age_groups_list = row['Alter']\n",
    "\n",
    "        if age_groups_list:\n",
    "            age_groups_dict = age_groups_list[0]\n",
    "            \n",
    "            for age_group, probability in probabilities.items():\n",
    "                if age_group in age_groups_dict:\n",
    "                    num_residents = age_groups_dict[age_group]\n",
    "                    num_selected = np.random.binomial(num_residents, probability)\n",
    "                    bevölkerungs_gdf.at[index, 'nachfrage'] += num_selected\n",
    "                else:\n",
    "                    print(f\"Die Altersgruppe '{age_group}' ist nicht im Dictionary enthalten.\")\n",
    "        else:\n",
    "            print(\"Die Liste 'Alter' ist leer.\")\n",
    "\n",
    "    # Use tqdm to display a progress bar for the loop\n",
    "    for index, row in tqdm(bevölkerungs_gdf.iterrows(), total=len(bevölkerungs_gdf)):\n",
    "        nachfrage = row['nachfrage']\n",
    "\n",
    "        #Kosten des Drohnen Transports\n",
    "        drone_transportation_cost += cost_per_km_drone * nachfrage * row.distance_warehouse\n",
    "        \n",
    "        # Kosten des LKW/PKW Transports\n",
    "        car_transportation_cost += bevölkerungs_gdf.loc[index].distance_pharmacy * cost_per_km_car * nachfrage\n",
    "        car_transportation_time += bevölkerungs_gdf.loc[index].time_pharmacy * nachfrage"
   ]
  },
  {
   "cell_type": "code",
   "execution_count": 253,
   "metadata": {},
   "outputs": [
    {
     "name": "stdout",
     "output_type": "stream",
     "text": [
      "--------------------------------------------------\n",
      "Logistical Cost Summary (per year):\n",
      "--------------------------------------------------\n",
      "Drone Transportation Cost: \t€1129543819.52\n",
      "Car/Truck Transportation Cost: \t€1160859279.00\n",
      "Car/Truck Transportation Time: \t59088471.70 hours\n",
      "Factory Cost: \t\t€11160.12\n",
      "--------------------------------------------------\n",
      "Total Cost Drone: \t\t€1129554979.64\n",
      "Total Cost Car: \t\t€1160859279.00\n",
      "--------------------------------------------------\n"
     ]
    }
   ],
   "source": [
    "def print_cost_summary(drone_cost, car_cost, car_time, factory_cost):\n",
    "  \"\"\"\n",
    "  Prints a formatted summary of the calculated costs and time.\n",
    "\n",
    "  Args:\n",
    "      drone_cost (float): Total drone transportation cost.\n",
    "      car_cost (float): Total car/truck transportation cost.\n",
    "      car_time (float): Total car/truck transportation time.\n",
    "      factory_cost (float): Total factory cost (assumed to be a fixed value).\n",
    "  \"\"\"\n",
    "\n",
    "  print(\"-\" * 50)\n",
    "  print(\"Logistical Cost Summary (per year):\")\n",
    "  print(\"-\" * 50)\n",
    "  print(f\"Drone Transportation Cost: \\t€{drone_cost:.2f}\")\n",
    "  print(f\"Car/Truck Transportation Cost: \\t€{car_cost:.2f}\")\n",
    "  print(f\"Car/Truck Transportation Time: \\t{car_time:.2f} hours\")\n",
    "  print(f\"Factory Cost: \\t\\t€{factory_cost:.2f}\")\n",
    "  print(\"-\" * 50)\n",
    "  print(f\"Total Cost Drone: \\t\\t€{(drone_cost + factory_cost):.2f}\")\n",
    "  print(f\"Total Cost Car: \\t\\t€{(car_cost):.2f}\")\n",
    "  print(\"-\" * 50)\n",
    "\n",
    "# Call the function after calculating the costs\n",
    "print_cost_summary(drone_transportation_cost, car_transportation_cost, car_transportation_time, factory_cost)"
   ]
  },
  {
   "cell_type": "markdown",
   "metadata": {},
   "source": [
    "# Tests"
   ]
  },
  {
   "cell_type": "code",
   "execution_count": null,
   "metadata": {},
   "outputs": [],
   "source": [
    "# Generate random values between 0 and 10\n",
    "random_values = np.random.randint(0, 10, len(bevölkerungs_gdf))\n",
    "\n",
    "# Add the random values as a new column named 'nachfrage'\n",
    "bevölkerungs_gdf['nachfrage'] = random_values"
   ]
  },
  {
   "cell_type": "code",
   "execution_count": null,
   "metadata": {},
   "outputs": [],
   "source": [
    "cost_per_km_drone = 0.5\n",
    "cost_per_km_car = 2\n",
    "drone_transportation_cost = 0\n",
    "car_transportation_cost = 0\n",
    "car_transportation_time = 0\n",
    "factory_cost = warehouses_gdf.loc[opened_warehouses].total_price_small.sum()\n",
    "\n",
    "# Use tqdm to display a progress bar for the loop\n",
    "for index, row in tqdm(bevölkerungs_gdf.iterrows(), total=len(bevölkerungs_gdf)):\n",
    "    nachfrage = row['nachfrage']\n",
    "    warehouse_geometry = warehouses_gdf.loc[row['warehouse']]['geometry']\n",
    "    population_geometry = row['geometry']\n",
    "    drone_transportation_cost += cost_per_km_drone * nachfrage * warehouse_geometry.distance(population_geometry)\n",
    "    #drone_transportation_cost += cost_per_km_drone * nachfrage * warehouses_gdf.loc[row['warehouse']].distance(row)\n",
    "    \n",
    "    # Kosten des Tages anhand des optimierten Modells und Vergleichswerte der herkömmlichen Logistik berechnen\n",
    "    distance, time = calculate_distance_to_nearest_pharmacy(row)\n",
    "\n",
    "    car_transportation_cost += distance * cost_per_km_car\n",
    "    car_transportation_time += time"
   ]
  }
 ],
 "metadata": {
  "kernelspec": {
   "display_name": "masterarbeit_python311",
   "language": "python",
   "name": "python3"
  },
  "language_info": {
   "codemirror_mode": {
    "name": "ipython",
    "version": 3
   },
   "file_extension": ".py",
   "mimetype": "text/x-python",
   "name": "python",
   "nbconvert_exporter": "python",
   "pygments_lexer": "ipython3",
   "version": "3.11.7"
  }
 },
 "nbformat": 4,
 "nbformat_minor": 2
}
