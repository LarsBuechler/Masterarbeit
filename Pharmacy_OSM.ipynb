{
 "cells": [
  {
   "cell_type": "code",
   "execution_count": 3,
   "metadata": {},
   "outputs": [],
   "source": [
    "import pandas as pd\n",
    "import numpy as np\n",
    "import geopandas as gpd\n",
    "from pyproj import Proj, transform, CRS\n",
    "\n",
    "import requests\n",
    "import json\n",
    "\n",
    "from time import sleep \n",
    "from tqdm import tqdm"
   ]
  },
  {
   "cell_type": "markdown",
   "metadata": {},
   "source": [
    "# Retrive Distance and Time from OSM"
   ]
  },
  {
   "cell_type": "markdown",
   "metadata": {},
   "source": [
    "## Current Approach"
   ]
  },
  {
   "cell_type": "code",
   "execution_count": 4,
   "metadata": {},
   "outputs": [],
   "source": [
    "bevölkerungs_gdf = gpd.read_file('./WLP/pharmacy_assigned.gpkg')\n",
    "bevölkerungs_gdf['Alter'] = bevölkerungs_gdf['Alter'].apply(json.loads)\n",
    "bevölkerungs_gdf['Geschlecht'] = bevölkerungs_gdf['Geschlecht'].apply(json.loads)\n",
    "\n",
    "pharmacy_df = pd.read_csv('./OSM_Data/Würzburg-Apotheken.csv')\n",
    "pharmacy_gdf = gpd.GeoDataFrame(pharmacy_df, geometry=gpd.points_from_xy(pharmacy_df['lon'], pharmacy_df['lat']), crs=CRS(\"EPSG:4326\"))\n",
    "pharmacy_gdf = pharmacy_gdf.to_crs(bevölkerungs_gdf.crs)"
   ]
  },
  {
   "cell_type": "code",
   "execution_count": 5,
   "metadata": {},
   "outputs": [],
   "source": [
    "def calculate_distance_to_nearest_pharmacy(row):\n",
    "\n",
    "    nearest_pharmacy = pharmacy_gdf[pharmacy_gdf['id'] == row.assigned_pharmacy]\n",
    "\n",
    "    lon_build = row.lon\n",
    "    lat_build = row.lat\n",
    "    lon_pharm = nearest_pharmacy.lon.iloc[0]\n",
    "    lat_pharm = nearest_pharmacy.lat.iloc[0]\n",
    "\n",
    "    max_retries = 3  # Set the maximum number of retries\n",
    "\n",
    "    for attempt in range(1, max_retries + 1):  # Loop for retries\n",
    "        try:\n",
    "            request_string = f\"http://router.project-osrm.org/route/v1/driving/{lon_build},{lat_build};{lon_pharm},{lat_pharm}?overview=false\"\n",
    "            res = requests.get(request_string)\n",
    "            res.raise_for_status()  # Raise an exception for non-200 status codes\n",
    "\n",
    "            content = json.loads(res.content)\n",
    "            distance = content['routes'][0]['legs'][0]['distance']\n",
    "            duration = content['routes'][0]['legs'][0]['duration']\n",
    "            return distance, duration\n",
    "\n",
    "        except requests.exceptions.RequestException as e:\n",
    "            print(f\"Error occurred on attempt {attempt} for {lon_build},{lat_build} -> {lon_pharm},{lat_pharm}: {e}\")\n",
    "            sleep(30)  # Wait 30 seconds before retrying\n",
    "\n",
    "    # If all retries fail, return 0 for distance and time\n",
    "    print(f\"All retries failed for {lon_build},{lat_build} -> {lon_pharm},{lat_pharm}\")\n",
    "    return 0, 0"
   ]
  },
  {
   "cell_type": "code",
   "execution_count": null,
   "metadata": {},
   "outputs": [],
   "source": [
    "chunksize = int(len(bevölkerungs_gdf) / 10)\n",
    "chunks = [bevölkerungs_gdf.iloc[i * chunksize:(i + 1) * chunksize] for i in range(10)]\n",
    "start_chunk = 0\n",
    "\n",
    "\n",
    "for iteration, chunk in enumerate(chunks[start_chunk:]):\n",
    "    # Calculate distance and time for each row in the chunk\n",
    "    for index, row in tqdm(chunk.iterrows(), total=len(chunk)):\n",
    "        distance, time = calculate_distance_to_nearest_pharmacy(row)\n",
    "        chunk.loc[index, 'distance_pharmacy'] = distance\n",
    "        chunk.loc[index, 'time_pharmacy'] = time\n",
    "\n",
    "    # Convert specific columns and save the chunk (same as before)\n",
    "    chunk['Alter'] = chunk['Alter'].apply(json.dumps)\n",
    "    chunk['Geschlecht'] = chunk['Geschlecht'].apply(json.dumps)\n",
    "    chunk.to_file(f'./Processed_WLP/Würzburg/pharmacy_assigned_{iteration + start_chunk}.gpkg', driver='GPKG')\n",
    "\n",
    "print(\"All chunks processed and saved successfully!\")"
   ]
  },
  {
   "cell_type": "code",
   "execution_count": 7,
   "metadata": {},
   "outputs": [],
   "source": [
    "file_paths = []\n",
    "for i in range(11):\n",
    "    file_paths.append(f'./Processed_WLP/Würzburg/pharmacy_assigned_{i}.gpkg')\n",
    "\n",
    "# Concatenation using list comprehension\n",
    "bevölkerungs_gdf = pd.concat([gpd.read_file(path) for path in file_paths])\n",
    "bevölkerungs_gdf.to_file('./WLP/pharmacy_assigned_complete.gpkg', driver='GPKG')"
   ]
  }
 ],
 "metadata": {
  "kernelspec": {
   "display_name": "masterarbeit_python311",
   "language": "python",
   "name": "python3"
  },
  "language_info": {
   "codemirror_mode": {
    "name": "ipython",
    "version": 3
   },
   "file_extension": ".py",
   "mimetype": "text/x-python",
   "name": "python",
   "nbconvert_exporter": "python",
   "pygments_lexer": "ipython3",
   "version": "3.11.7"
  }
 },
 "nbformat": 4,
 "nbformat_minor": 2
}
